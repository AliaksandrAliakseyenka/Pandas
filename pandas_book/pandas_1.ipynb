{
 "cells": [
  {
   "cell_type": "code",
   "execution_count": 4,
   "id": "81df62f6",
   "metadata": {},
   "outputs": [
    {
     "data": {
      "text/plain": [
       "Index(['a', 'b', 'c', 'd'], dtype='object')"
      ]
     },
     "execution_count": 4,
     "metadata": {},
     "output_type": "execute_result"
    }
   ],
   "source": [
    "import pandas as pd\n",
    "import numpy as np \n",
    "import matplotlib.pyplot as plt\n",
    "\n",
    "# создаем объект Series, состоящий из четырех элементов \n",
    "s = pd.Series([1, 2, 3, 4]) \n",
    "# show \n",
    "s\n",
    "# получаем значение для метки индекса 1 \n",
    "s[1]\n",
    "# возвращаем серию с элементами, \n",
    "# у которых метки 1 и 3 \n",
    "s[[1,3]]\n",
    "# создаем серию, задав индекс в явном виде \n",
    "b = pd.Series([1,2,3,4],index = ['a','b','c','d'])\n",
    "# ищем элементы серии, у которых # метки индекса 'a' и 'd\n",
    "b[['a','d']]\n",
    "# извлекаем только индекс объекта Serie\n",
    "b.index\n"
   ]
  },
  {
   "cell_type": "code",
   "execution_count": 5,
   "id": "a0d5b827",
   "metadata": {},
   "outputs": [
    {
     "data": {
      "text/plain": [
       "DatetimeIndex(['2022-10-01', '2022-10-02', '2022-10-03', '2022-10-04',\n",
       "               '2022-10-05', '2022-10-06', '2022-10-07', '2022-10-08'],\n",
       "              dtype='datetime64[ns]', freq='D')"
      ]
     },
     "execution_count": 5,
     "metadata": {},
     "output_type": "execute_result"
    }
   ],
   "source": [
    "# создаем объект Series, индекс которого - серия дат \n",
    "# между двумя определенными датами (включительно) \n",
    "dates = pd.date_range(\"2022-10-01\",\"2022-10-08\")\n",
    "dates"
   ]
  },
  {
   "cell_type": "code",
   "execution_count": 6,
   "id": "f4985849",
   "metadata": {},
   "outputs": [
    {
     "data": {
      "text/plain": [
       "2022-10-01    45\n",
       "2022-10-02    55\n",
       "2022-10-03    65\n",
       "2022-10-04    43\n",
       "2022-10-05    59\n",
       "2022-10-06    69\n",
       "2022-10-07    55\n",
       "2022-10-08    57\n",
       "Freq: D, dtype: int64"
      ]
     },
     "execution_count": 6,
     "metadata": {},
     "output_type": "execute_result"
    }
   ],
   "source": [
    "# создаем объект Series, в котором значениям температуры \n",
    "# будут соответствовать даты в индексе\n",
    "\n",
    "temp1 = pd.Series([45,55,65,43,59,69,55,57], index=dates)\n",
    "temp1"
   ]
  },
  {
   "cell_type": "code",
   "execution_count": 7,
   "id": "95ca2896",
   "metadata": {},
   "outputs": [
    {
     "data": {
      "text/plain": [
       "43"
      ]
     },
     "execution_count": 7,
     "metadata": {},
     "output_type": "execute_result"
    }
   ],
   "source": [
    "# какая температура была 2022-10-04? \n",
    "temp1['2022-10-04']"
   ]
  },
  {
   "cell_type": "code",
   "execution_count": 8,
   "id": "110659ee",
   "metadata": {},
   "outputs": [
    {
     "data": {
      "text/plain": [
       "2022-10-01    55\n",
       "2022-10-02    59\n",
       "2022-10-03    69\n",
       "2022-10-04    49\n",
       "2022-10-05    69\n",
       "2022-10-06    79\n",
       "2022-10-07    35\n",
       "2022-10-08    52\n",
       "Freq: D, dtype: int64"
      ]
     },
     "execution_count": 8,
     "metadata": {},
     "output_type": "execute_result"
    }
   ],
   "source": [
    "temp2 = pd.Series([55,59,69,49,69,79,35,52], index=dates)\n",
    "temp2"
   ]
  },
  {
   "cell_type": "code",
   "execution_count": 9,
   "id": "42911fa7",
   "metadata": {},
   "outputs": [
    {
     "data": {
      "text/plain": [
       "2022-10-01   -10\n",
       "2022-10-02    -4\n",
       "2022-10-03    -4\n",
       "2022-10-04    -6\n",
       "2022-10-05   -10\n",
       "2022-10-06   -10\n",
       "2022-10-07    20\n",
       "2022-10-08     5\n",
       "Freq: D, dtype: int64"
      ]
     },
     "execution_count": 9,
     "metadata": {},
     "output_type": "execute_result"
    }
   ],
   "source": [
    "# операции\n",
    "result = temp1 - temp2\n",
    "result"
   ]
  },
  {
   "cell_type": "code",
   "execution_count": 10,
   "id": "27a0668a",
   "metadata": {},
   "outputs": [
    {
     "data": {
      "text/plain": [
       "-2.375"
      ]
     },
     "execution_count": 10,
     "metadata": {},
     "output_type": "execute_result"
    }
   ],
   "source": [
    "# вычисляем среднее значение разности температур \n",
    "result.mean()"
   ]
  },
  {
   "cell_type": "code",
   "execution_count": 11,
   "id": "87fef4d2",
   "metadata": {},
   "outputs": [
    {
     "data": {
      "text/html": [
       "<div>\n",
       "<style scoped>\n",
       "    .dataframe tbody tr th:only-of-type {\n",
       "        vertical-align: middle;\n",
       "    }\n",
       "\n",
       "    .dataframe tbody tr th {\n",
       "        vertical-align: top;\n",
       "    }\n",
       "\n",
       "    .dataframe thead th {\n",
       "        text-align: right;\n",
       "    }\n",
       "</style>\n",
       "<table border=\"1\" class=\"dataframe\">\n",
       "  <thead>\n",
       "    <tr style=\"text-align: right;\">\n",
       "      <th></th>\n",
       "      <th>City_one</th>\n",
       "      <th>City_two</th>\n",
       "    </tr>\n",
       "  </thead>\n",
       "  <tbody>\n",
       "    <tr>\n",
       "      <th>2022-10-01</th>\n",
       "      <td>45</td>\n",
       "      <td>55</td>\n",
       "    </tr>\n",
       "    <tr>\n",
       "      <th>2022-10-02</th>\n",
       "      <td>55</td>\n",
       "      <td>59</td>\n",
       "    </tr>\n",
       "    <tr>\n",
       "      <th>2022-10-03</th>\n",
       "      <td>65</td>\n",
       "      <td>69</td>\n",
       "    </tr>\n",
       "    <tr>\n",
       "      <th>2022-10-04</th>\n",
       "      <td>43</td>\n",
       "      <td>49</td>\n",
       "    </tr>\n",
       "    <tr>\n",
       "      <th>2022-10-05</th>\n",
       "      <td>59</td>\n",
       "      <td>69</td>\n",
       "    </tr>\n",
       "    <tr>\n",
       "      <th>2022-10-06</th>\n",
       "      <td>69</td>\n",
       "      <td>79</td>\n",
       "    </tr>\n",
       "    <tr>\n",
       "      <th>2022-10-07</th>\n",
       "      <td>55</td>\n",
       "      <td>35</td>\n",
       "    </tr>\n",
       "    <tr>\n",
       "      <th>2022-10-08</th>\n",
       "      <td>57</td>\n",
       "      <td>52</td>\n",
       "    </tr>\n",
       "  </tbody>\n",
       "</table>\n",
       "</div>"
      ],
      "text/plain": [
       "            City_one  City_two\n",
       "2022-10-01        45        55\n",
       "2022-10-02        55        59\n",
       "2022-10-03        65        69\n",
       "2022-10-04        43        49\n",
       "2022-10-05        59        69\n",
       "2022-10-06        69        79\n",
       "2022-10-07        55        35\n",
       "2022-10-08        57        52"
      ]
     },
     "execution_count": 11,
     "metadata": {},
     "output_type": "execute_result"
    }
   ],
   "source": [
    "# DataFrame\n",
    "temps_df = pd.DataFrame({\"City_one\":temp1,\n",
    "                       \"City_two\":temp2})\n",
    "temps_df\n"
   ]
  },
  {
   "cell_type": "code",
   "execution_count": 12,
   "id": "ae449329",
   "metadata": {},
   "outputs": [
    {
     "data": {
      "text/plain": [
       "2022-10-01    45\n",
       "2022-10-02    55\n",
       "2022-10-03    65\n",
       "2022-10-04    43\n",
       "2022-10-05    59\n",
       "2022-10-06    69\n",
       "2022-10-07    55\n",
       "2022-10-08    57\n",
       "Freq: D, Name: City_one, dtype: int64"
      ]
     },
     "execution_count": 12,
     "metadata": {},
     "output_type": "execute_result"
    }
   ],
   "source": [
    "# получаем столбец\n",
    "temps_df['City_one']"
   ]
  },
  {
   "cell_type": "code",
   "execution_count": 13,
   "id": "1aa519c3",
   "metadata": {},
   "outputs": [
    {
     "data": {
      "text/html": [
       "<div>\n",
       "<style scoped>\n",
       "    .dataframe tbody tr th:only-of-type {\n",
       "        vertical-align: middle;\n",
       "    }\n",
       "\n",
       "    .dataframe tbody tr th {\n",
       "        vertical-align: top;\n",
       "    }\n",
       "\n",
       "    .dataframe thead th {\n",
       "        text-align: right;\n",
       "    }\n",
       "</style>\n",
       "<table border=\"1\" class=\"dataframe\">\n",
       "  <thead>\n",
       "    <tr style=\"text-align: right;\">\n",
       "      <th></th>\n",
       "      <th>City_one</th>\n",
       "      <th>City_two</th>\n",
       "    </tr>\n",
       "  </thead>\n",
       "  <tbody>\n",
       "    <tr>\n",
       "      <th>2022-10-01</th>\n",
       "      <td>45</td>\n",
       "      <td>55</td>\n",
       "    </tr>\n",
       "    <tr>\n",
       "      <th>2022-10-02</th>\n",
       "      <td>55</td>\n",
       "      <td>59</td>\n",
       "    </tr>\n",
       "    <tr>\n",
       "      <th>2022-10-03</th>\n",
       "      <td>65</td>\n",
       "      <td>69</td>\n",
       "    </tr>\n",
       "    <tr>\n",
       "      <th>2022-10-04</th>\n",
       "      <td>43</td>\n",
       "      <td>49</td>\n",
       "    </tr>\n",
       "    <tr>\n",
       "      <th>2022-10-05</th>\n",
       "      <td>59</td>\n",
       "      <td>69</td>\n",
       "    </tr>\n",
       "    <tr>\n",
       "      <th>2022-10-06</th>\n",
       "      <td>69</td>\n",
       "      <td>79</td>\n",
       "    </tr>\n",
       "    <tr>\n",
       "      <th>2022-10-07</th>\n",
       "      <td>55</td>\n",
       "      <td>35</td>\n",
       "    </tr>\n",
       "    <tr>\n",
       "      <th>2022-10-08</th>\n",
       "      <td>57</td>\n",
       "      <td>52</td>\n",
       "    </tr>\n",
       "  </tbody>\n",
       "</table>\n",
       "</div>"
      ],
      "text/plain": [
       "            City_one  City_two\n",
       "2022-10-01        45        55\n",
       "2022-10-02        55        59\n",
       "2022-10-03        65        69\n",
       "2022-10-04        43        49\n",
       "2022-10-05        59        69\n",
       "2022-10-06        69        79\n",
       "2022-10-07        55        35\n",
       "2022-10-08        57        52"
      ]
     },
     "execution_count": 13,
     "metadata": {},
     "output_type": "execute_result"
    }
   ],
   "source": [
    "# выводим оба столбца \n",
    "temps_df[['City_one', 'City_two']]\n"
   ]
  },
  {
   "cell_type": "code",
   "execution_count": 14,
   "id": "7a0d4f10",
   "metadata": {},
   "outputs": [
    {
     "data": {
      "text/plain": [
       "2022-10-01    45\n",
       "2022-10-02    55\n",
       "2022-10-03    65\n",
       "2022-10-04    43\n",
       "2022-10-05    59\n",
       "2022-10-06    69\n",
       "2022-10-07    55\n",
       "2022-10-08    57\n",
       "Freq: D, Name: City_one, dtype: int64"
      ]
     },
     "execution_count": 14,
     "metadata": {},
     "output_type": "execute_result"
    }
   ],
   "source": [
    "# извлекаем столбец Missoula с помощью \"вычисляемого\" свойства \n",
    "temps_df.City_one"
   ]
  },
  {
   "cell_type": "code",
   "execution_count": 15,
   "id": "1aed8bcd",
   "metadata": {},
   "outputs": [
    {
     "data": {
      "text/plain": [
       "2022-10-01   -10\n",
       "2022-10-02    -4\n",
       "2022-10-03    -4\n",
       "2022-10-04    -6\n",
       "2022-10-05   -10\n",
       "2022-10-06   -10\n",
       "2022-10-07    20\n",
       "2022-10-08     5\n",
       "Freq: D, dtype: int64"
      ]
     },
     "execution_count": 15,
     "metadata": {},
     "output_type": "execute_result"
    }
   ],
   "source": [
    "# вычисляем разницу температур двух городов\n",
    "temps_df.City_one - temps_df.City_two"
   ]
  },
  {
   "cell_type": "code",
   "execution_count": 16,
   "id": "0a252ef9",
   "metadata": {},
   "outputs": [
    {
     "data": {
      "text/html": [
       "<div>\n",
       "<style scoped>\n",
       "    .dataframe tbody tr th:only-of-type {\n",
       "        vertical-align: middle;\n",
       "    }\n",
       "\n",
       "    .dataframe tbody tr th {\n",
       "        vertical-align: top;\n",
       "    }\n",
       "\n",
       "    .dataframe thead th {\n",
       "        text-align: right;\n",
       "    }\n",
       "</style>\n",
       "<table border=\"1\" class=\"dataframe\">\n",
       "  <thead>\n",
       "    <tr style=\"text-align: right;\">\n",
       "      <th></th>\n",
       "      <th>City_one</th>\n",
       "      <th>City_two</th>\n",
       "      <th>Difference</th>\n",
       "    </tr>\n",
       "  </thead>\n",
       "  <tbody>\n",
       "    <tr>\n",
       "      <th>2022-10-01</th>\n",
       "      <td>45</td>\n",
       "      <td>55</td>\n",
       "      <td>-10</td>\n",
       "    </tr>\n",
       "    <tr>\n",
       "      <th>2022-10-02</th>\n",
       "      <td>55</td>\n",
       "      <td>59</td>\n",
       "      <td>-4</td>\n",
       "    </tr>\n",
       "    <tr>\n",
       "      <th>2022-10-03</th>\n",
       "      <td>65</td>\n",
       "      <td>69</td>\n",
       "      <td>-4</td>\n",
       "    </tr>\n",
       "    <tr>\n",
       "      <th>2022-10-04</th>\n",
       "      <td>43</td>\n",
       "      <td>49</td>\n",
       "      <td>-6</td>\n",
       "    </tr>\n",
       "    <tr>\n",
       "      <th>2022-10-05</th>\n",
       "      <td>59</td>\n",
       "      <td>69</td>\n",
       "      <td>-10</td>\n",
       "    </tr>\n",
       "    <tr>\n",
       "      <th>2022-10-06</th>\n",
       "      <td>69</td>\n",
       "      <td>79</td>\n",
       "      <td>-10</td>\n",
       "    </tr>\n",
       "    <tr>\n",
       "      <th>2022-10-07</th>\n",
       "      <td>55</td>\n",
       "      <td>35</td>\n",
       "      <td>20</td>\n",
       "    </tr>\n",
       "    <tr>\n",
       "      <th>2022-10-08</th>\n",
       "      <td>57</td>\n",
       "      <td>52</td>\n",
       "      <td>5</td>\n",
       "    </tr>\n",
       "  </tbody>\n",
       "</table>\n",
       "</div>"
      ],
      "text/plain": [
       "            City_one  City_two  Difference\n",
       "2022-10-01        45        55         -10\n",
       "2022-10-02        55        59          -4\n",
       "2022-10-03        65        69          -4\n",
       "2022-10-04        43        49          -6\n",
       "2022-10-05        59        69         -10\n",
       "2022-10-06        69        79         -10\n",
       "2022-10-07        55        35          20\n",
       "2022-10-08        57        52           5"
      ]
     },
     "execution_count": 16,
     "metadata": {},
     "output_type": "execute_result"
    }
   ],
   "source": [
    "# добавляем в датафрейм temp_df столбец Difference \n",
    "# который содержит разности температу\n",
    "\n",
    "temps_df['Difference'] = result\n",
    "temps_df"
   ]
  },
  {
   "cell_type": "code",
   "execution_count": 17,
   "id": "a4bc5fa3",
   "metadata": {},
   "outputs": [
    {
     "data": {
      "text/plain": [
       "Index(['City_one', 'City_two', 'Difference'], dtype='object')"
      ]
     },
     "execution_count": 17,
     "metadata": {},
     "output_type": "execute_result"
    }
   ],
   "source": [
    "# получаем имена столбцов, которые к тому же являются объектом Index \n",
    "temps_df.columns"
   ]
  },
  {
   "cell_type": "code",
   "execution_count": 18,
   "id": "1b788280",
   "metadata": {},
   "outputs": [
    {
     "data": {
      "text/plain": [
       "2022-10-02   -4\n",
       "2022-10-03   -4\n",
       "2022-10-04   -6\n",
       "Freq: D, Name: Difference, dtype: int64"
      ]
     },
     "execution_count": 18,
     "metadata": {},
     "output_type": "execute_result"
    }
   ],
   "source": [
    "#slice\n",
    "# отбираем значения разностей температур в столбце Difference, начиная \n",
    "# с позиции 1 (2016-04-02) и заканчивая позицией 4 (2016-04-05), \n",
    "# как если бы это был массив \n",
    "# обратите внимание, что конец диапазона не включается, то есть \n",
    "# диапазон не включает элемент с позицией 4 (2016-04-05\n",
    "temps_df.Difference[1:4]\n"
   ]
  },
  {
   "cell_type": "code",
   "execution_count": 19,
   "id": "9a56e0e4",
   "metadata": {},
   "outputs": [
    {
     "data": {
      "text/plain": [
       "City_one      55\n",
       "City_two      59\n",
       "Difference    -4\n",
       "Name: 2022-10-02 00:00:00, dtype: int64"
      ]
     },
     "execution_count": 19,
     "metadata": {},
     "output_type": "execute_result"
    }
   ],
   "source": [
    "# получаем строку, которой соответствует \n",
    "# метка индекса 1 \n",
    "temps_df.iloc[1]"
   ]
  },
  {
   "cell_type": "code",
   "execution_count": 20,
   "id": "f3746781",
   "metadata": {},
   "outputs": [
    {
     "data": {
      "text/plain": [
       "Index(['City_one', 'City_two', 'Difference'], dtype='object')"
      ]
     },
     "execution_count": 20,
     "metadata": {},
     "output_type": "execute_result"
    }
   ],
   "source": [
    "# имена столбцов стали индексом, \n",
    "# мы \"повернули\" их \n",
    "temps_df.iloc[1].index"
   ]
  },
  {
   "cell_type": "code",
   "execution_count": 21,
   "id": "2bbca918",
   "metadata": {},
   "outputs": [
    {
     "data": {
      "text/plain": [
       "City_one      59\n",
       "City_two      69\n",
       "Difference   -10\n",
       "Name: 2022-10-05 00:00:00, dtype: int64"
      ]
     },
     "execution_count": 21,
     "metadata": {},
     "output_type": "execute_result"
    }
   ],
   "source": [
    "# извлекаем строку с помощью метки индекса, \n",
    "# воспользовавшись свойством .loc\n",
    "temps_df.loc[\"2022-10-05\"]"
   ]
  },
  {
   "cell_type": "code",
   "execution_count": 22,
   "id": "6f3a9eb9",
   "metadata": {},
   "outputs": [
    {
     "data": {
      "text/plain": [
       "2022-10-02    -4\n",
       "2022-10-04    -6\n",
       "2022-10-06   -10\n",
       "Freq: 2D, Name: Difference, dtype: int64"
      ]
     },
     "execution_count": 22,
     "metadata": {},
     "output_type": "execute_result"
    }
   ],
   "source": [
    "# получаем значения столбца Difference в строках 1, 3 и 5, \n",
    "# используя целочисленные позиции с началом отсчета в 0 \n",
    "temps_df.iloc[[1,3,5]].Difference"
   ]
  },
  {
   "cell_type": "code",
   "execution_count": 23,
   "id": "a538c472",
   "metadata": {},
   "outputs": [
    {
     "data": {
      "text/plain": [
       "2022-10-01    False\n",
       "2022-10-02     True\n",
       "2022-10-03     True\n",
       "2022-10-04    False\n",
       "2022-10-05     True\n",
       "2022-10-06     True\n",
       "2022-10-07     True\n",
       "2022-10-08     True\n",
       "Freq: D, Name: City_one, dtype: bool"
      ]
     },
     "execution_count": 23,
     "metadata": {},
     "output_type": "execute_result"
    }
   ],
   "source": [
    "# bool\n",
    "temps_df.City_one > 50"
   ]
  },
  {
   "cell_type": "code",
   "execution_count": 24,
   "id": "87f17dc3",
   "metadata": {},
   "outputs": [
    {
     "data": {
      "text/html": [
       "<div>\n",
       "<style scoped>\n",
       "    .dataframe tbody tr th:only-of-type {\n",
       "        vertical-align: middle;\n",
       "    }\n",
       "\n",
       "    .dataframe tbody tr th {\n",
       "        vertical-align: top;\n",
       "    }\n",
       "\n",
       "    .dataframe thead th {\n",
       "        text-align: right;\n",
       "    }\n",
       "</style>\n",
       "<table border=\"1\" class=\"dataframe\">\n",
       "  <thead>\n",
       "    <tr style=\"text-align: right;\">\n",
       "      <th></th>\n",
       "      <th>City_one</th>\n",
       "      <th>City_two</th>\n",
       "      <th>Difference</th>\n",
       "    </tr>\n",
       "  </thead>\n",
       "  <tbody>\n",
       "    <tr>\n",
       "      <th>2022-10-02</th>\n",
       "      <td>55</td>\n",
       "      <td>59</td>\n",
       "      <td>-4</td>\n",
       "    </tr>\n",
       "    <tr>\n",
       "      <th>2022-10-03</th>\n",
       "      <td>65</td>\n",
       "      <td>69</td>\n",
       "      <td>-4</td>\n",
       "    </tr>\n",
       "    <tr>\n",
       "      <th>2022-10-05</th>\n",
       "      <td>59</td>\n",
       "      <td>69</td>\n",
       "      <td>-10</td>\n",
       "    </tr>\n",
       "    <tr>\n",
       "      <th>2022-10-06</th>\n",
       "      <td>69</td>\n",
       "      <td>79</td>\n",
       "      <td>-10</td>\n",
       "    </tr>\n",
       "  </tbody>\n",
       "</table>\n",
       "</div>"
      ],
      "text/plain": [
       "            City_one  City_two  Difference\n",
       "2022-10-02        55        59          -4\n",
       "2022-10-03        65        69          -4\n",
       "2022-10-05        59        69         -10\n",
       "2022-10-06        69        79         -10"
      ]
     },
     "execution_count": 24,
     "metadata": {},
     "output_type": "execute_result"
    }
   ],
   "source": [
    "temps_df[temps_df.City_two > 55]"
   ]
  }
 ],
 "metadata": {
  "kernelspec": {
   "display_name": "Python 3 (ipykernel)",
   "language": "python",
   "name": "python3"
  },
  "language_info": {
   "codemirror_mode": {
    "name": "ipython",
    "version": 3
   },
   "file_extension": ".py",
   "mimetype": "text/x-python",
   "name": "python",
   "nbconvert_exporter": "python",
   "pygments_lexer": "ipython3",
   "version": "3.11.1"
  }
 },
 "nbformat": 4,
 "nbformat_minor": 5
}
