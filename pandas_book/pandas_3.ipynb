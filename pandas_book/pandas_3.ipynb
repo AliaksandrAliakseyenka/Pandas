{
 "cells": [
  {
   "cell_type": "code",
   "execution_count": 1,
   "id": "8ff1ce48",
   "metadata": {},
   "outputs": [],
   "source": [
    "import pandas as pd \n",
    "import numpy as np"
   ]
  },
  {
   "cell_type": "code",
   "execution_count": 2,
   "id": "0f78cfbf",
   "metadata": {},
   "outputs": [],
   "source": [
    "# Методы вывода значений .head() , .tail() , .take()"
   ]
  },
  {
   "cell_type": "code",
   "execution_count": 3,
   "id": "6696db37",
   "metadata": {},
   "outputs": [
    {
     "data": {
      "text/plain": [
       "0       1.000000\n",
       "1       6.210526\n",
       "2      11.421053\n",
       "3      16.631579\n",
       "4      21.842105\n",
       "5      27.052632\n",
       "6      32.263158\n",
       "7      37.473684\n",
       "8      42.684211\n",
       "9      47.894737\n",
       "10     53.105263\n",
       "11     58.315789\n",
       "12     63.526316\n",
       "13     68.736842\n",
       "14     73.947368\n",
       "15     79.157895\n",
       "16     84.368421\n",
       "17     89.578947\n",
       "18     94.789474\n",
       "19    100.000000\n",
       "dtype: float64"
      ]
     },
     "execution_count": 3,
     "metadata": {},
     "output_type": "execute_result"
    }
   ],
   "source": [
    "get_show = pd.Series(np.linspace(1,100,20),\n",
    "                    index = np.arange(0,20))\n",
    "get_show"
   ]
  },
  {
   "cell_type": "code",
   "execution_count": 4,
   "id": "f3dcb4bb",
   "metadata": {},
   "outputs": [
    {
     "data": {
      "text/plain": [
       "0     1.000000\n",
       "1     6.210526\n",
       "2    11.421053\n",
       "3    16.631579\n",
       "4    21.842105\n",
       "dtype: float64"
      ]
     },
     "execution_count": 4,
     "metadata": {},
     "output_type": "execute_result"
    }
   ],
   "source": [
    "# выводим первые 5 строк \n",
    "get_show.head()"
   ]
  },
  {
   "cell_type": "code",
   "execution_count": 5,
   "id": "bf1f1040",
   "metadata": {},
   "outputs": [
    {
     "data": {
      "text/plain": [
       "0     1.000000\n",
       "1     6.210526\n",
       "2    11.421053\n",
       "dtype: float64"
      ]
     },
     "execution_count": 5,
     "metadata": {},
     "output_type": "execute_result"
    }
   ],
   "source": [
    "# выводим первые 3 строки\n",
    "get_show.head(n = 3)"
   ]
  },
  {
   "cell_type": "code",
   "execution_count": 6,
   "id": "94cd1eea",
   "metadata": {},
   "outputs": [
    {
     "data": {
      "text/plain": [
       "15     79.157895\n",
       "16     84.368421\n",
       "17     89.578947\n",
       "18     94.789474\n",
       "19    100.000000\n",
       "dtype: float64"
      ]
     },
     "execution_count": 6,
     "metadata": {},
     "output_type": "execute_result"
    }
   ],
   "source": [
    "# выводим 5 последних \n",
    "get_show.tail()"
   ]
  },
  {
   "cell_type": "code",
   "execution_count": 8,
   "id": "f14d60f5",
   "metadata": {},
   "outputs": [
    {
     "data": {
      "text/plain": [
       "17     89.578947\n",
       "18     94.789474\n",
       "19    100.000000\n",
       "dtype: float64"
      ]
     },
     "execution_count": 8,
     "metadata": {},
     "output_type": "execute_result"
    }
   ],
   "source": [
    "get_show.tail(n = 3) \n",
    "# или get_show.tail(3)"
   ]
  },
  {
   "cell_type": "code",
   "execution_count": 9,
   "id": "29ef7e69",
   "metadata": {},
   "outputs": [
    {
     "data": {
      "text/plain": [
       "1      6.210526\n",
       "3     16.631579\n",
       "10    53.105263\n",
       "dtype: float64"
      ]
     },
     "execution_count": 9,
     "metadata": {},
     "output_type": "execute_result"
    }
   ],
   "source": [
    "# метод .take() вернет строки серии\n",
    "get_show.take([1,3,10])\n"
   ]
  },
  {
   "cell_type": "code",
   "execution_count": 11,
   "id": "89a8f548",
   "metadata": {},
   "outputs": [
    {
     "data": {
      "text/plain": [
       "a    10\n",
       "b    11\n",
       "c    12\n",
       "s    13\n",
       "w    14\n",
       "dtype: int64"
      ]
     },
     "execution_count": 11,
     "metadata": {},
     "output_type": "execute_result"
    }
   ],
   "source": [
    "# Получение значений в объекте Series по метке или позиции\n",
    "s = pd.Series(np.arange(10,15),\n",
    "              index = list('abcsw'))\n",
    "s"
   ]
  },
  {
   "cell_type": "code",
   "execution_count": 36,
   "id": "82ec0865",
   "metadata": {},
   "outputs": [
    {
     "data": {
      "text/plain": [
       "10"
      ]
     },
     "execution_count": 36,
     "metadata": {},
     "output_type": "execute_result"
    }
   ],
   "source": [
    "# получаем значение с меткой 'a' \n",
    "s['a']"
   ]
  },
  {
   "cell_type": "code",
   "execution_count": 37,
   "id": "699c878e",
   "metadata": {},
   "outputs": [
    {
     "data": {
      "text/plain": [
       "a    10\n",
       "b    11\n",
       "dtype: int64"
      ]
     },
     "execution_count": 37,
     "metadata": {},
     "output_type": "execute_result"
    }
   ],
   "source": [
    "# чтобы сразу извлечь несколько элементов, воспользуйтесь списком меток индекса:\n",
    "s[['a','b']]"
   ]
  },
  {
   "cell_type": "code",
   "execution_count": 38,
   "id": "3e0d63dc",
   "metadata": {},
   "outputs": [
    {
     "data": {
      "text/plain": [
       "b    11\n",
       "w    14\n",
       "dtype: int64"
      ]
     },
     "execution_count": 38,
     "metadata": {},
     "output_type": "execute_result"
    }
   ],
   "source": [
    "# получить значение передав список с позициями\n",
    "s[[1,4]]"
   ]
  },
  {
   "cell_type": "code",
   "execution_count": 39,
   "id": "e41cafb7",
   "metadata": {},
   "outputs": [
    {
     "data": {
      "text/plain": [
       "11    2\n",
       "13    4\n",
       "14    5\n",
       "dtype: int64"
      ]
     },
     "execution_count": 39,
     "metadata": {},
     "output_type": "execute_result"
    }
   ],
   "source": [
    "s2 = pd.Series([1,2,3,4,5], index = [10,11,12,13,14])\n",
    "# осуществляем поиск совпадений \n",
    "# с целочисленными метками \n",
    "# поиск по метке, а не по позиции \n",
    "s2[[11,13,14]]"
   ]
  },
  {
   "cell_type": "code",
   "execution_count": 40,
   "id": "fd567d26",
   "metadata": {},
   "outputs": [
    {
     "data": {
      "text/plain": [
       "1      6.210526\n",
       "15    79.157895\n",
       "dtype: float64"
      ]
     },
     "execution_count": 40,
     "metadata": {},
     "output_type": "execute_result"
    }
   ],
   "source": [
    "# must use для поиска .loc[] и .iloc[], которые явно осуществляют поиск по метке или позициии \n",
    "# поиск позиции с помощью свойства .iloc[]\n",
    "get_show.iloc[[1,15]]"
   ]
  },
  {
   "cell_type": "code",
   "execution_count": 41,
   "id": "b09791d2",
   "metadata": {},
   "outputs": [
    {
     "data": {
      "text/plain": [
       "11    2\n",
       "13    4\n",
       "10    1\n",
       "dtype: int64"
      ]
     },
     "execution_count": 41,
     "metadata": {},
     "output_type": "execute_result"
    }
   ],
   "source": [
    "s2.loc[[11,13,10]]"
   ]
  },
  {
   "cell_type": "code",
   "execution_count": 44,
   "id": "bc90332c",
   "metadata": {},
   "outputs": [
    {
     "data": {
      "text/plain": [
       "s    13.0\n",
       "t     NaN\n",
       "dtype: float64"
      ]
     },
     "execution_count": 44,
     "metadata": {},
     "output_type": "execute_result"
    }
   ],
   "source": [
    "# значение для несуществующей метки \n",
    "# будет значением NaN\n",
    "s.reindex(['s','t'])\n"
   ]
  }
 ],
 "metadata": {
  "kernelspec": {
   "display_name": "Python 3 (ipykernel)",
   "language": "python",
   "name": "python3"
  },
  "language_info": {
   "codemirror_mode": {
    "name": "ipython",
    "version": 3
   },
   "file_extension": ".py",
   "mimetype": "text/x-python",
   "name": "python",
   "nbconvert_exporter": "python",
   "pygments_lexer": "ipython3",
   "version": "3.11.1"
  }
 },
 "nbformat": 4,
 "nbformat_minor": 5
}
