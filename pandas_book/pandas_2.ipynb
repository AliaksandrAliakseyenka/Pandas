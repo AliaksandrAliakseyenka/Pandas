{
 "cells": [
  {
   "cell_type": "code",
   "execution_count": 1,
   "id": "a8878e53",
   "metadata": {},
   "outputs": [
    {
     "data": {
      "text/plain": [
       "0    20\n",
       "1    30\n",
       "2    40\n",
       "3    50\n",
       "dtype: int64"
      ]
     },
     "execution_count": 1,
     "metadata": {},
     "output_type": "execute_result"
    }
   ],
   "source": [
    "import pandas as pd\n",
    "import numpy as np\n",
    "\n",
    "# cоздаем серию из списка\n",
    "s = pd.Series([20,30,40,50])\n",
    "s"
   ]
  },
  {
   "cell_type": "code",
   "execution_count": 2,
   "id": "cbece00d",
   "metadata": {},
   "outputs": [
    {
     "data": {
      "text/plain": [
       "50"
      ]
     },
     "execution_count": 2,
     "metadata": {},
     "output_type": "execute_result"
    }
   ],
   "source": [
    "# получить значение в метке индекса \n",
    "s[3]"
   ]
  },
  {
   "cell_type": "code",
   "execution_count": 3,
   "id": "7d2fdaec",
   "metadata": {},
   "outputs": [
    {
     "data": {
      "text/plain": [
       "0      Mike\n",
       "1    Marcia\n",
       "2    Mikael\n",
       "3      Bleu\n",
       "dtype: object"
      ]
     },
     "execution_count": 3,
     "metadata": {},
     "output_type": "execute_result"
    }
   ],
   "source": [
    "# серия из строк\n",
    "cre_str = pd.Series(['Mike', 'Marcia', 'Mikael', 'Bleu'])\n",
    "cre_str"
   ]
  },
  {
   "cell_type": "code",
   "execution_count": 4,
   "id": "08402fec",
   "metadata": {},
   "outputs": [
    {
     "data": {
      "text/plain": [
       "0    10\n",
       "1    10\n",
       "2    10\n",
       "3    10\n",
       "dtype: int64"
      ]
     },
     "execution_count": 4,
     "metadata": {},
     "output_type": "execute_result"
    }
   ],
   "source": [
    "n_v = pd.Series([10]*4)\n",
    "n_v"
   ]
  },
  {
   "cell_type": "code",
   "execution_count": 5,
   "id": "9faf6f84",
   "metadata": {},
   "outputs": [
    {
     "data": {
      "text/plain": [
       "0    a\n",
       "1    b\n",
       "2    c\n",
       "3    d\n",
       "dtype: object"
      ]
     },
     "execution_count": 5,
     "metadata": {},
     "output_type": "execute_result"
    }
   ],
   "source": [
    "# используем каждый символ в качестве значения \n",
    "use_list = pd.Series(list('abcd'))\n",
    "use_list\n"
   ]
  },
  {
   "cell_type": "code",
   "execution_count": 6,
   "id": "af2e2a3f",
   "metadata": {},
   "outputs": [
    {
     "data": {
      "text/plain": [
       "1    2\n",
       "3    4\n",
       "5    6\n",
       "dtype: int64"
      ]
     },
     "execution_count": 6,
     "metadata": {},
     "output_type": "execute_result"
    }
   ],
   "source": [
    "# создаем объект Series из словаря \n",
    "use_dict = pd.Series({1:2,\n",
    "            3:4,\n",
    "            5:6})\n",
    "use_dict"
   ]
  },
  {
   "cell_type": "code",
   "execution_count": 7,
   "id": "347235b7",
   "metadata": {},
   "outputs": [
    {
     "data": {
      "text/plain": [
       "0    2\n",
       "1    3\n",
       "2    4\n",
       "3    5\n",
       "4    6\n",
       "5    7\n",
       "6    8\n",
       "7    9\n",
       "dtype: int64"
      ]
     },
     "execution_count": 7,
     "metadata": {},
     "output_type": "execute_result"
    }
   ],
   "source": [
    "# cоздаем с помощи Numpy\n",
    "use_np = pd.Series(np.arange(2,10))\n",
    "\n",
    "use_np"
   ]
  },
  {
   "cell_type": "code",
   "execution_count": 8,
   "id": "9a23c55a",
   "metadata": {},
   "outputs": [
    {
     "data": {
      "text/plain": [
       "0    0.0\n",
       "1    3.0\n",
       "2    6.0\n",
       "3    9.0\n",
       "dtype: float64"
      ]
     },
     "execution_count": 8,
     "metadata": {},
     "output_type": "execute_result"
    }
   ],
   "source": [
    "# use pn.linspace\n",
    "use_linspace = pd.Series(np.linspace(0,9,4))\n",
    "use_linspace"
   ]
  },
  {
   "cell_type": "code",
   "execution_count": 9,
   "id": "cd996608",
   "metadata": {},
   "outputs": [
    {
     "data": {
      "text/plain": [
       "0    0.697621\n",
       "1   -0.900678\n",
       "2   -0.728924\n",
       "3   -0.196928\n",
       "4   -0.933755\n",
       "5   -0.802418\n",
       "dtype: float64"
      ]
     },
     "execution_count": 9,
     "metadata": {},
     "output_type": "execute_result"
    }
   ],
   "source": [
    "# use random\n",
    "use_random = pd.Series(np.random.normal(size=6))\n",
    "use_random"
   ]
  },
  {
   "cell_type": "code",
   "execution_count": 10,
   "id": "5b3b4856",
   "metadata": {},
   "outputs": [
    {
     "data": {
      "text/plain": [
       "0     0\n",
       "1     5\n",
       "2    10\n",
       "3    15\n",
       "4    20\n",
       "dtype: int64"
      ]
     },
     "execution_count": 10,
     "metadata": {},
     "output_type": "execute_result"
    }
   ],
   "source": [
    "# cоздание Series с помощью скалярного\n",
    "scl = pd.Series(np.arange(0,5))\n",
    "scl * 5 "
   ]
  },
  {
   "cell_type": "code",
   "execution_count": 11,
   "id": "13f2b45d",
   "metadata": {},
   "outputs": [
    {
     "data": {
      "text/plain": [
       "numpy.ndarray"
      ]
     },
     "execution_count": 11,
     "metadata": {},
     "output_type": "execute_result"
    }
   ],
   "source": [
    "df_values = pd.Series(\n",
    "    (list('abcdfe')),\n",
    "    index= np.arange(0,6))\n",
    "# df_values\n",
    "# get df_values with .values:\n",
    "# df_values.values\n",
    "type(df_values.values)\n",
    "                    "
   ]
  },
  {
   "cell_type": "code",
   "execution_count": 12,
   "id": "60e47edd",
   "metadata": {},
   "outputs": [
    {
     "data": {
      "text/plain": [
       "Int64Index([0, 1, 2, 3, 4, 5], dtype='int64')"
      ]
     },
     "execution_count": 12,
     "metadata": {},
     "output_type": "execute_result"
    }
   ],
   "source": [
    "df_values.index"
   ]
  },
  {
   "cell_type": "code",
   "execution_count": 13,
   "id": "5d6efca1",
   "metadata": {},
   "outputs": [
    {
     "data": {
      "text/plain": [
       "6"
      ]
     },
     "execution_count": 13,
     "metadata": {},
     "output_type": "execute_result"
    }
   ],
   "source": [
    "# как определить размер:\n",
    "# len\n",
    "len(df_values)\n"
   ]
  },
  {
   "cell_type": "code",
   "execution_count": 14,
   "id": "0c133cab",
   "metadata": {},
   "outputs": [
    {
     "data": {
      "text/plain": [
       "6"
      ]
     },
     "execution_count": 14,
     "metadata": {},
     "output_type": "execute_result"
    }
   ],
   "source": [
    "# как определить размер:\n",
    "# .size\n",
    "df_values.size"
   ]
  },
  {
   "cell_type": "code",
   "execution_count": 15,
   "id": "d3bd58d9",
   "metadata": {},
   "outputs": [
    {
     "data": {
      "text/plain": [
       "(6,)"
      ]
     },
     "execution_count": 15,
     "metadata": {},
     "output_type": "execute_result"
    }
   ],
   "source": [
    "# получить информацию можно так же при помощи .shape\n",
    "# возвращает кортеж с одним значением \n",
    "df_values.shape"
   ]
  },
  {
   "cell_type": "code",
   "execution_count": 16,
   "id": "b1fa8ff9",
   "metadata": {},
   "outputs": [
    {
     "data": {
      "text/plain": [
       "'Mike'"
      ]
     },
     "execution_count": 16,
     "metadata": {},
     "output_type": "execute_result"
    }
   ],
   "source": [
    "# установка индекса во время создания обьекта Series \n",
    "labels = ['Mike', 'Marcia', 'Mikael', 'Bleu']\n",
    "role = ['Dad', 'Mom', 'Son', 'Dog']\n",
    "s = pd.Series(labels, index=role)\n",
    "# Используем индекс\n",
    "s['Dad']"
   ]
  }
 ],
 "metadata": {
  "kernelspec": {
   "display_name": "Python 3 (ipykernel)",
   "language": "python",
   "name": "python3"
  },
  "language_info": {
   "codemirror_mode": {
    "name": "ipython",
    "version": 3
   },
   "file_extension": ".py",
   "mimetype": "text/x-python",
   "name": "python",
   "nbconvert_exporter": "python",
   "pygments_lexer": "ipython3",
   "version": "3.11.1"
  }
 },
 "nbformat": 4,
 "nbformat_minor": 5
}
